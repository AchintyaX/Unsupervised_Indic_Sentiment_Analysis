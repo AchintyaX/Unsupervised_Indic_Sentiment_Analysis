{
  "nbformat": 4,
  "nbformat_minor": 0,
  "metadata": {
    "colab": {
      "name": "Demo.ipynb",
      "provenance": [],
      "mount_file_id": "1S0rK61qBpIrEQpIzDefQfpQKSg3UAL_D",
      "authorship_tag": "ABX9TyOExYGiM11eeK1XQb6ni109",
      "include_colab_link": true
    },
    "kernelspec": {
      "name": "python3",
      "display_name": "Python 3"
    }
  },
  "cells": [
    {
      "cell_type": "markdown",
      "metadata": {
        "id": "view-in-github",
        "colab_type": "text"
      },
      "source": [
        "<a href=\"https://colab.research.google.com/github/AchintyaX/Unsupervised_Sentiment_Analysis/blob/master/Demo.ipynb\" target=\"_parent\"><img src=\"https://colab.research.google.com/assets/colab-badge.svg\" alt=\"Open In Colab\"/></a>"
      ]
    },
    {
      "cell_type": "markdown",
      "metadata": {
        "id": "Y4yn_QxOCC1v",
        "colab_type": "text"
      },
      "source": [
        "# Importing the support libraries "
      ]
    },
    {
      "cell_type": "code",
      "metadata": {
        "id": "u2Mv06CH-7Z9",
        "colab_type": "code",
        "colab": {}
      },
      "source": [
        "import pandas as pd \n",
        "import numpy as np\n",
        "import nltk \n",
        "import re \n",
        "from re import sub\n",
        "import string \n",
        "from nltk.tokenize import word_tokenize\n",
        "from nltk.stem import WordNetLemmatizer\n",
        "\n",
        "import sys\n",
        "sys.path.append('/content/drive/My Drive/jio_project/sentiment_analysis/Sentiment_demo')\n",
        "import spacy\n",
        "from spacy.lang.hi import Hindi\n",
        "import numpy as np \n",
        "import textblob\n",
        "from textblob import TextBlob \n",
        "from gensim.models.fasttext import FastText \n",
        "import en_core_web_sm "
      ],
      "execution_count": null,
      "outputs": []
    },
    {
      "cell_type": "markdown",
      "metadata": {
        "id": "nH8j5XSPCJh3",
        "colab_type": "text"
      },
      "source": [
        "# Importing all the Modules \n",
        "### Importing all the functions that have been developed for preprocessing \n",
        "### and for sentiment analysis"
      ]
    },
    {
      "cell_type": "code",
      "metadata": {
        "id": "dJ380FHyAKyM",
        "colab_type": "code",
        "colab": {
          "base_uri": "https://localhost:8080/",
          "height": 119
        },
        "outputId": "579e6324-bf7c-4004-9509-794636988518"
      },
      "source": [
        "from article_preprocessing import remove_named_entities, preprocess, tokenize_named_entities_removal, remove_stopwords, preprocess_hin, load_dicts\n",
        "from model import sentiment_coeff, term_frequency, predict_sentiment, get_senti_coeff_indic, get_sentiment, word_gen"
      ],
      "execution_count": null,
      "outputs": [
        {
          "output_type": "stream",
          "text": [
            "[nltk_data] Downloading package stopwords to /root/nltk_data...\n",
            "[nltk_data]   Package stopwords is already up-to-date!\n",
            "[nltk_data] Downloading package punkt to /root/nltk_data...\n",
            "[nltk_data]   Package punkt is already up-to-date!\n",
            "[nltk_data] Downloading package wordnet to /root/nltk_data...\n",
            "[nltk_data]   Package wordnet is already up-to-date!\n"
          ],
          "name": "stdout"
        }
      ]
    },
    {
      "cell_type": "markdown",
      "metadata": {
        "id": "2WEt2L-cCtHG",
        "colab_type": "text"
      },
      "source": [
        "\n",
        "Loading the semantic dependencies "
      ]
    },
    {
      "cell_type": "code",
      "metadata": {
        "id": "Kafa44kiCaTD",
        "colab_type": "code",
        "colab": {}
      },
      "source": [
        "POS_WORDS_PATH = '/content/drive/My Drive/jio_project/sentiment_analysis/Sentiment_demo/positive_words_hi.csv'\n",
        "NEG_WORDS_PATH = '/content/drive/My Drive/jio_project/sentiment_analysis/Sentiment_demo/negative_words_hi.csv'"
      ],
      "execution_count": null,
      "outputs": []
    },
    {
      "cell_type": "code",
      "metadata": {
        "id": "PCejrKuLC61Y",
        "colab_type": "code",
        "colab": {}
      },
      "source": [
        "pos_words_dict = load_dicts(POS_WORDS_PATH)\n",
        "neg_words_dict = load_dicts(NEG_WORDS_PATH)"
      ],
      "execution_count": null,
      "outputs": []
    },
    {
      "cell_type": "markdown",
      "metadata": {
        "id": "akVszUiIC6Yp",
        "colab_type": "text"
      },
      "source": [
        "Loading the FastText Model "
      ]
    },
    {
      "cell_type": "code",
      "metadata": {
        "id": "fwQF_EAJDgqf",
        "colab_type": "code",
        "colab": {}
      },
      "source": [
        "model = FastText.load_fasttext_format('/content/drive/My Drive/jio_project/sentiment_analysis/Sentiment_demo/cc.hi.300.bin')"
      ],
      "execution_count": null,
      "outputs": []
    },
    {
      "cell_type": "markdown",
      "metadata": {
        "id": "N3qDBZKwC_vP",
        "colab_type": "text"
      },
      "source": [
        "## Word_gen\n",
        "The word_gen function is used to generate new words of similar polarity from a given set of words. \n",
        "The arguments of word_gen are -\n",
        "1. List of words \n",
        "2. Polarity of the list of words \n",
        "3. FastText model\n",
        "4. postitve and negative reference words for polarity detection "
      ]
    },
    {
      "cell_type": "markdown",
      "metadata": {
        "id": "qsgtIt91DpWZ",
        "colab_type": "text"
      },
      "source": [
        "Here we are using word_gen on a few negative words to generate more negative words. All the words that are generated are different."
      ]
    },
    {
      "cell_type": "code",
      "metadata": {
        "id": "vL6tI-9AEX14",
        "colab_type": "code",
        "colab": {
          "base_uri": "https://localhost:8080/",
          "height": 377
        },
        "outputId": "9d1801ae-b600-4fbf-848d-021d44a16514"
      },
      "source": [
        "word_array = ['असमर्थ', 'गंदा', 'मैला']\n",
        "word_gen(word_array, model, -1, pos_words_dict, neg_words_dict)"
      ],
      "execution_count": null,
      "outputs": [
        {
          "output_type": "stream",
          "text": [
            "/usr/local/lib/python3.6/dist-packages/gensim/matutils.py:737: FutureWarning: Conversion of the second argument of issubdtype from `int` to `np.signedinteger` is deprecated. In future, it will be treated as `np.int64 == np.dtype(int).type`.\n",
            "  if np.issubdtype(vec.dtype, np.int):\n"
          ],
          "name": "stderr"
        },
        {
          "output_type": "execute_result",
          "data": {
            "text/plain": [
              "['सक्षम',\n",
              " 'समर्थ',\n",
              " 'मजबूर',\n",
              " 'विफल',\n",
              " 'बाध्य',\n",
              " 'गन्दा',\n",
              " 'गंदे',\n",
              " 'गंदगी',\n",
              " 'हॉकर्सघरों',\n",
              " 'बदबूदार',\n",
              " 'बजबजाता',\n",
              " 'बजबजाते',\n",
              " 'बजबजाती',\n",
              " 'कुचैला',\n",
              " 'भजयि',\n",
              " 'साढदेव',\n",
              " 'पठानमुख',\n",
              " 'ढ़ोने']"
            ]
          },
          "metadata": {
            "tags": []
          },
          "execution_count": 8
        }
      ]
    },
    {
      "cell_type": "markdown",
      "metadata": {
        "id": "JqWSagBDPRz4",
        "colab_type": "text"
      },
      "source": [
        "Here we are generating a few positive words to generate more positive words "
      ]
    },
    {
      "cell_type": "code",
      "metadata": {
        "id": "SXLF-L-gMGDA",
        "colab_type": "code",
        "colab": {
          "base_uri": "https://localhost:8080/",
          "height": 88
        },
        "outputId": "6bb1a4a1-e107-46d6-8471-77cdf7040dd5"
      },
      "source": [
        "word_array = ['उत्कृष्ट', 'गर्व', 'प्रभावशाली']\n",
        "word_gen(word_array, model, 1, pos_words_dict, neg_words_dict)"
      ],
      "execution_count": null,
      "outputs": [
        {
          "output_type": "stream",
          "text": [
            "/usr/local/lib/python3.6/dist-packages/gensim/matutils.py:737: FutureWarning: Conversion of the second argument of issubdtype from `int` to `np.signedinteger` is deprecated. In future, it will be treated as `np.int64 == np.dtype(int).type`.\n",
            "  if np.issubdtype(vec.dtype, np.int):\n"
          ],
          "name": "stderr"
        },
        {
          "output_type": "execute_result",
          "data": {
            "text/plain": [
              "['बेहतरीन', 'उमा०', 'शानदार', 'श्रेष्ठ', 'उत्तम', 'BSK']"
            ]
          },
          "metadata": {
            "tags": []
          },
          "execution_count": 9
        }
      ]
    },
    {
      "cell_type": "markdown",
      "metadata": {
        "id": "VGXtVunEEDq9",
        "colab_type": "text"
      },
      "source": [
        "## get_sentiment \n",
        "\n",
        "This function is used to get the polarity of the a given word token, \n",
        "The module with the help of the posiitve and negative words list is able to compare and give us the positive and negative polarity of a word,\n",
        "Comparing the two one can find whether the word is positive or negative \n",
        "The arguments for the function are - \n",
        "1. target word\n",
        "2. known polar words \n",
        "3. FastText language model"
      ]
    },
    {
      "cell_type": "markdown",
      "metadata": {
        "id": "f4ZZooUWJmOf",
        "colab_type": "text"
      },
      "source": [
        "Here get_sentiment is used to get the negative polarity of a the word 'गंदगी'"
      ]
    },
    {
      "cell_type": "code",
      "metadata": {
        "id": "8eAFvWgPGfIm",
        "colab_type": "code",
        "colab": {
          "base_uri": "https://localhost:8080/",
          "height": 88
        },
        "outputId": "17de0882-b164-4a56-f2f2-c896f5fc9cb2"
      },
      "source": [
        "get_sentiment('गंदगी', neg_words_dict, model)"
      ],
      "execution_count": null,
      "outputs": [
        {
          "output_type": "stream",
          "text": [
            "/usr/local/lib/python3.6/dist-packages/gensim/matutils.py:737: FutureWarning: Conversion of the second argument of issubdtype from `int` to `np.signedinteger` is deprecated. In future, it will be treated as `np.int64 == np.dtype(int).type`.\n",
            "  if np.issubdtype(vec.dtype, np.int):\n"
          ],
          "name": "stderr"
        },
        {
          "output_type": "execute_result",
          "data": {
            "text/plain": [
              "0.7499999552965164"
            ]
          },
          "metadata": {
            "tags": []
          },
          "execution_count": 10
        }
      ]
    },
    {
      "cell_type": "markdown",
      "metadata": {
        "id": "JdB4TjdxLN-D",
        "colab_type": "text"
      },
      "source": [
        "Here we are using get_sentiment to get the positive polarity of the word 'उत्कृष्ट'"
      ]
    },
    {
      "cell_type": "code",
      "metadata": {
        "id": "L3jiRsRwLayg",
        "colab_type": "code",
        "colab": {
          "base_uri": "https://localhost:8080/",
          "height": 88
        },
        "outputId": "de8d0f2c-2324-4850-f76b-5329c9f71701"
      },
      "source": [
        "get_sentiment('उत्कृष्ट', pos_words_dict, model)"
      ],
      "execution_count": null,
      "outputs": [
        {
          "output_type": "stream",
          "text": [
            "/usr/local/lib/python3.6/dist-packages/gensim/matutils.py:737: FutureWarning: Conversion of the second argument of issubdtype from `int` to `np.signedinteger` is deprecated. In future, it will be treated as `np.int64 == np.dtype(int).type`.\n",
            "  if np.issubdtype(vec.dtype, np.int):\n"
          ],
          "name": "stderr"
        },
        {
          "output_type": "execute_result",
          "data": {
            "text/plain": [
              "0.42201653122901917"
            ]
          },
          "metadata": {
            "tags": []
          },
          "execution_count": 11
        }
      ]
    },
    {
      "cell_type": "markdown",
      "metadata": {
        "id": "rDRglSlWS_8X",
        "colab_type": "text"
      },
      "source": [
        "The get_similarity function is the alternative for libraries like TextBlob which provide lexicon polarity in english"
      ]
    },
    {
      "cell_type": "code",
      "metadata": {
        "id": "-tGEsyvZLsZS",
        "colab_type": "code",
        "colab": {
          "base_uri": "https://localhost:8080/",
          "height": 51
        },
        "outputId": "540669fb-9523-4e70-a9ea-2098bcb04f9a"
      },
      "source": [
        "# there is already existing tool for lexicon polarity prediction for english \n",
        "print(TextBlob('awesome').polarity)\n",
        "print(TextBlob('dirty').polarity)"
      ],
      "execution_count": null,
      "outputs": [
        {
          "output_type": "stream",
          "text": [
            "1.0\n",
            "-0.6\n"
          ],
          "name": "stdout"
        }
      ]
    },
    {
      "cell_type": "markdown",
      "metadata": {
        "id": "wKmcS3gOtVUu",
        "colab_type": "text"
      },
      "source": [
        "## get_senti_coeff_indic and senti_coeff\n",
        "\n",
        "this function helps us generate a sentiment vector for a given article, it is basically finds the polarity of each word in the article and replaces them with it. \n",
        "arguments for get_senti_coeff are - \n",
        "1. article\n",
        "2. positive reference words\n",
        "3. negative reference words \n",
        "4. FastText language model"
      ]
    },
    {
      "cell_type": "markdown",
      "metadata": {
        "id": "sNQ6cCesyyuz",
        "colab_type": "text"
      },
      "source": [
        "Let us take a sample news headline, we need to preprocess it a bit "
      ]
    },
    {
      "cell_type": "code",
      "metadata": {
        "id": "CxZ_sBwHtUQQ",
        "colab_type": "code",
        "colab": {}
      },
      "source": [
        "article_hin = 'छपरा में व्यवसायी का शव बरामद'\n",
        "\n",
        "#tokenizing hindi data \n",
        "def tokenize_hindi(article):\n",
        "    nlp = Hindi()\n",
        "    doc = nlp(article)\n",
        "    tokens = [token.text for token in doc]\n",
        "    \n",
        "    return tokens \n",
        "article_hin = preprocess_hin(article_hin)\n",
        "artcile_hin = tokenize_hindi(article_hin)"
      ],
      "execution_count": null,
      "outputs": []
    },
    {
      "cell_type": "markdown",
      "metadata": {
        "id": "3BGj82LyzUJl",
        "colab_type": "text"
      },
      "source": [
        "we can see that apart from 'शव' all the other words are neutral "
      ]
    },
    {
      "cell_type": "code",
      "metadata": {
        "id": "onYMLJh6M_jD",
        "colab_type": "code",
        "colab": {
          "base_uri": "https://localhost:8080/",
          "height": 564
        },
        "outputId": "73da0c18-6748-404c-d4ab-e01d8040667f"
      },
      "source": [
        "get_senti_coeff_indic(article_hin, pos_words_dict, neg_words_dict, model)"
      ],
      "execution_count": null,
      "outputs": [
        {
          "output_type": "stream",
          "text": [
            "/usr/local/lib/python3.6/dist-packages/gensim/matutils.py:737: FutureWarning: Conversion of the second argument of issubdtype from `int` to `np.signedinteger` is deprecated. In future, it will be treated as `np.int64 == np.dtype(int).type`.\n",
            "  if np.issubdtype(vec.dtype, np.int):\n"
          ],
          "name": "stderr"
        },
        {
          "output_type": "execute_result",
          "data": {
            "text/plain": [
              "[0,\n",
              " 0,\n",
              " 0,\n",
              " 0,\n",
              " 0,\n",
              " 0,\n",
              " 0,\n",
              " 0,\n",
              " 0,\n",
              " 0,\n",
              " 0,\n",
              " 0,\n",
              " 0,\n",
              " 0,\n",
              " 0,\n",
              " 0,\n",
              " 0,\n",
              " 0,\n",
              " 0,\n",
              " 0,\n",
              " 0,\n",
              " 0,\n",
              " 0,\n",
              " 0,\n",
              " -0.40277905762195587,\n",
              " 0,\n",
              " 0,\n",
              " 0,\n",
              " 0]"
            ]
          },
          "metadata": {
            "tags": []
          },
          "execution_count": 14
        }
      ]
    },
    {
      "cell_type": "markdown",
      "metadata": {
        "id": "u8sQuYf01jz9",
        "colab_type": "text"
      },
      "source": [
        "Similarly let us take an english news headline and find the sentiment vector"
      ]
    },
    {
      "cell_type": "code",
      "metadata": {
        "id": "Qo22Lpyk0Sv8",
        "colab_type": "code",
        "colab": {}
      },
      "source": [
        "article_eng = 'Loan demand in low-ticket segment robust but slowing for high-end market, says HDFCs Keki Mistry'\n",
        "\n",
        "# Preprocessing the article\n",
        "article_eng = remove_named_entities(article_eng)\n",
        "article_eng = preprocess(article_eng)\n",
        "article_eng = tokenize_named_entities_removal(article_eng)\n",
        "article_eng = remove_stopwords(article_eng)"
      ],
      "execution_count": null,
      "outputs": []
    },
    {
      "cell_type": "markdown",
      "metadata": {
        "id": "2_L5L9Za1iP6",
        "colab_type": "text"
      },
      "source": [
        "as we can see respective sentiment coeff has been given to each token "
      ]
    },
    {
      "cell_type": "code",
      "metadata": {
        "id": "gt1r1RaF1Svp",
        "colab_type": "code",
        "colab": {
          "base_uri": "https://localhost:8080/",
          "height": 255
        },
        "outputId": "b765063b-ce3c-4483-c7eb-17f03aff28d6"
      },
      "source": [
        "sentiment_coeff(article_eng)"
      ],
      "execution_count": null,
      "outputs": [
        {
          "output_type": "execute_result",
          "data": {
            "text/plain": [
              "[0.0,\n",
              " 0.0,\n",
              " 0.0,\n",
              " 0.0,\n",
              " 0.0,\n",
              " 0.0,\n",
              " -0.30000000000000004,\n",
              " 0.16,\n",
              " 0.0,\n",
              " 0.0,\n",
              " 0.0,\n",
              " 0.0,\n",
              " 0.0,\n",
              " 0.0]"
            ]
          },
          "metadata": {
            "tags": []
          },
          "execution_count": 16
        }
      ]
    },
    {
      "cell_type": "markdown",
      "metadata": {
        "id": "F_joQCsR1zEk",
        "colab_type": "text"
      },
      "source": [
        "## Term_frequency \n",
        "\n",
        "This function generates a vector that represents an article on the basis of frequency of occurence of a word in the article. \n",
        "This function is common and doesn't require any language specific input "
      ]
    },
    {
      "cell_type": "code",
      "metadata": {
        "id": "DjSw7Zhd0DtX",
        "colab_type": "code",
        "colab": {
          "base_uri": "https://localhost:8080/",
          "height": 510
        },
        "outputId": "00c79ae1-cc55-4df4-ee73-0432a92f4a7c"
      },
      "source": [
        "term_frequency(article_hin)"
      ],
      "execution_count": null,
      "outputs": [
        {
          "output_type": "execute_result",
          "data": {
            "text/plain": [
              "[0.034482758620689655,\n",
              " 0.034482758620689655,\n",
              " 0.06896551724137931,\n",
              " 0.13793103448275862,\n",
              " 0.1724137931034483,\n",
              " 0.06896551724137931,\n",
              " 0.034482758620689655,\n",
              " 0.034482758620689655,\n",
              " 0.1724137931034483,\n",
              " 0.10344827586206896,\n",
              " 0.034482758620689655,\n",
              " 0.06896551724137931,\n",
              " 0.10344827586206896,\n",
              " 0.034482758620689655,\n",
              " 0.13793103448275862,\n",
              " 0.06896551724137931,\n",
              " 0.034482758620689655,\n",
              " 0.1724137931034483,\n",
              " 0.034482758620689655,\n",
              " 0.13793103448275862,\n",
              " 0.1724137931034483,\n",
              " 0.034482758620689655,\n",
              " 0.10344827586206896,\n",
              " 0.1724137931034483,\n",
              " 0.034482758620689655,\n",
              " 0.06896551724137931,\n",
              " 0.13793103448275862,\n",
              " 0.06896551724137931,\n",
              " 0.034482758620689655]"
            ]
          },
          "metadata": {
            "tags": []
          },
          "execution_count": 17
        }
      ]
    },
    {
      "cell_type": "markdown",
      "metadata": {
        "id": "fHwL14pb2QI2",
        "colab_type": "text"
      },
      "source": [
        "# Predict_sentiment\n",
        "This is the final function it can be used for any langauge just language code has to be passed on along side the article.\n",
        "<br>\n",
        "The arguments for Predict_sentiment are -\n",
        "1. article\n",
        "2. langauge_code\n",
        "3. fasttext language model\n",
        "4. positive reference words\n",
        "5. negative reference words "
      ]
    },
    {
      "cell_type": "markdown",
      "metadata": {
        "id": "Y7hKTKXr2jO4",
        "colab_type": "text"
      },
      "source": [
        "Here we are showing an example of it at work with the given hindi news headline<br>- \n",
        "<i>\"छपरा में व्यवसायी का शव बरामद\"</i> <br>\n",
        "\n",
        "as we can see that the sentiment is negative, if the model gives output -1 then it means it interprets the sentiment correctly"
      ]
    },
    {
      "cell_type": "code",
      "metadata": {
        "id": "WFaYR1obyYa1",
        "colab_type": "code",
        "colab": {
          "base_uri": "https://localhost:8080/",
          "height": 88
        },
        "outputId": "d8e60ba2-4704-41d5-e40a-99ac94d854fb"
      },
      "source": [
        "predict_sentiment(article_hin, 'hi', model, pos_words_dict, neg_words_dict)"
      ],
      "execution_count": null,
      "outputs": [
        {
          "output_type": "stream",
          "text": [
            "/usr/local/lib/python3.6/dist-packages/gensim/matutils.py:737: FutureWarning: Conversion of the second argument of issubdtype from `int` to `np.signedinteger` is deprecated. In future, it will be treated as `np.int64 == np.dtype(int).type`.\n",
            "  if np.issubdtype(vec.dtype, np.int):\n"
          ],
          "name": "stderr"
        },
        {
          "output_type": "execute_result",
          "data": {
            "text/plain": [
              "-1"
            ]
          },
          "metadata": {
            "tags": []
          },
          "execution_count": 18
        }
      ]
    },
    {
      "cell_type": "markdown",
      "metadata": {
        "id": "dh5TINQu3K12",
        "colab_type": "text"
      },
      "source": [
        "Here we are showing an exmple of the function at work for a given english news headline - <br>\n",
        "-<i>\"Loan demand in low-ticket segment robust but slowing for high-end market, says HDFCs Keki Mistry \" </i>\n",
        "\n",
        "as we can see the article the general sentiment of the article is negative so, if the model interprets it correctly it would return <br> -1"
      ]
    },
    {
      "cell_type": "code",
      "metadata": {
        "id": "Vko5nhkA21m0",
        "colab_type": "code",
        "colab": {
          "base_uri": "https://localhost:8080/",
          "height": 34
        },
        "outputId": "5ef800be-da94-42c0-93f0-df8c373564fa"
      },
      "source": [
        "predict_sentiment(article_eng, 'en', model, pos_words_dict, neg_words_dict)"
      ],
      "execution_count": null,
      "outputs": [
        {
          "output_type": "execute_result",
          "data": {
            "text/plain": [
              "-1"
            ]
          },
          "metadata": {
            "tags": []
          },
          "execution_count": 19
        }
      ]
    },
    {
      "cell_type": "code",
      "metadata": {
        "id": "g00YRdT84ETF",
        "colab_type": "code",
        "colab": {}
      },
      "source": [
        ""
      ],
      "execution_count": null,
      "outputs": []
    }
  ]
}